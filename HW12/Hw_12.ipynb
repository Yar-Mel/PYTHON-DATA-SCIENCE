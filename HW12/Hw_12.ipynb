{
  "cells": [
    {
      "cell_type": "markdown",
      "source": [
        "# Домашнє завдання\n",
        "Зробіть `summary` нижчевказаного тексту використовуючи бібліотеки для `NLP`: `nltk` та `SpaCy`\n",
        "\n",
        "    The Orbiter Discovery, OV-103, is considered eligible for listing in the National Register of Historic Places (NRHP) in the context of the U.S. Space Shuttle Program (1969-2011) under Criterion A in the areas of Space Exploration and Transportation and under Criterion C in the area of Engineering. Because it has achieved significance within the past fifty years, Criteria Consideration G applies. Under Criterion A, Discovery is significant as the oldest of the three extant orbiter vehicles constructed for the Space Shuttle Program (SSP), the longest running American space program to date; she was the third of five orbiters built by NASA. Unlike the Mercury, Gemini, and Apollo programs, the SSP’s emphasis was on cost effectiveness and reusability, and eventually the construction of a space station. Including her maiden voyage (launched August 30, 1984), Discovery flew to space thirty-nine times, more than any of the other four orbiters; she was also the first orbiter to fly twenty missions. She had the honor of being chosen as the Return to Flight vehicle after both the Challenger and Columbia accidents. Discovery was the first shuttle to fly with the redesigned SRBs, a result of the Challenger accident, and the first shuttle to fly with the Phase II and Block I SSME. Discovery also carried the Hubble Space Telescope to orbit and performed two of the five servicing missions to the observatory. She flew the first and last dedicated Department of Defense (DoD) missions, as well as the first unclassified defense-related mission. In addition, Discovery was vital to the construction of the International Space Station (ISS); she flew thirteen of the thirty-seven total missions flown to the station by a U.S. Space Shuttle. She was the first orbiter to dock to the ISS, and the first to perform an exchange of a resident crew. Under Criterion C, Discovery is significant as a feat of engineering. According to Wayne Hale, a flight director from Johnson Space Center, the Space Shuttle orbiter represents a “huge technological leap from expendable rockets and capsules to a reusable, winged, hypersonic, cargo-carrying spacecraft.” Although her base structure followed a conventional aircraft design, she used advanced materials that both minimized her weight for cargo-carrying purposes and featured low thermal expansion ratios, which provided a stable base for her Thermal Protection System (TPS) materials. The Space Shuttle orbiter also featured the first reusable TPS; all previous spaceflight vehicles had a single-use, ablative heat shield. Other notable engineering achievements of the orbiter included the first reusable orbital propulsion system, and the first two-fault-tolerant Integrated Avionics System. As Hale stated, the Space Shuttle remains “the largest, fastest, winged hypersonic aircraft in history,” having regularly flown at twenty-five times the speed of sound.\n",
        "\n",
        "### Підказка\n",
        "Перш за все, ми повинні імпортувати необхідні бібліотеки. Для `SpaCy` це можна зробити за допомогою команди:\n",
        "\n",
        "    import spacy\n",
        "\n",
        "Зауважте, що для `NLTK` можливо потрібно завантажити додаткові дані, наприклад, список стоп-слів або токенізатори.\n",
        "\n",
        "    import nltk\n",
        "    from nltk.corpus import stopwords\n",
        "    from nltk.tokenize import word_tokenize, sent_tokenize\n",
        "\n",
        "Перш ніж почати роботу з `SpaCy`, необхідно завантажити потрібну мовну модель. Наприклад, для англійської мови ми можемо завантажити модель `\"en_core_web_sm\"`:\n",
        "\n",
        "    nlp = spacy.load('en_core_web_sm')\n",
        "\n",
        "### Підготовка тексту\n",
        "Перш ніж почати створювати `text summary`, текст потрібно підготувати. Це включає в себе видалення непотрібних символів, токенізацію (розбиття тексту на окремі слова або речення), видалення стоп-слів (слова, які не несуть суттєвої інформації) і, за необхідності, інші обробки тексту, такі як стемінг або лематизація.\n",
        "\n",
        "### Текст для обробки\n",
        "    text = \"This is an example sentence for tokenization and lemmatization.\"\n",
        "\n",
        "### Токенізація\n",
        "    doc = nlp(text)\n",
        "    tokens = [token.text for token in doc]\n",
        "    print(tokens)\n",
        "\n",
        "`NLTK`також надає розширені функції для обробки тексту. За допомогою методів `NLTK`, таких як `word_tokenize`, `sent_tokenize` або `stopwords`, ми можемо отримати токенизовані слова та речення, а також список стоп-слів.\n",
        "\n",
        "    tokens = word_tokenize(text)\n",
        "    sentences = sent_tokenize(text)\n",
        "    stop_words = set(stopwords.words('english'))\n",
        "\n",
        "І також не забуваємо про знаки пунктуації\n",
        "\n",
        "`punctuation = punctuation + '\\n'`\n",
        "\n",
        "Також можна порахувати частоту появи тих чи інших слів у тексті(але варто пам'ятати, що це треба робити, вже виключивши усі знаки пунктуації)\n",
        "\n",
        "    word_frequencies = {}\n",
        "    for word in doc:\n",
        "      if word.text.lower() not in stop_words:\n",
        "        if word.text.lower() not in punctuation:\n",
        "          if word.text not in word_frequencies.keys():\n",
        "            word_frequencies[word.text] = 1\n",
        "          else:\n",
        "            word_frequencies[word.text] += 1\n",
        "\n",
        "\n",
        "\n",
        "\n",
        "Коли ми вже маємо підготовлений текст та використали `SpaCy` або `NLTK` для отримання необхідної інформації, ми можемо створити текстове резюме. Це можна зробити, наприклад, шляхом виділення найважливіших речень з тексту, враховуючи їх вагу або частоту вживання певних слів.\n",
        "\n",
        "### Бібліотека `heapq`\n",
        "Бібліотека `heapq` є частиною стандартної бібліотеки `Python` і надає функціонал для роботи зі структурами даних під назвою `heap`. Один з імпортованих об’єктів у цій бібліотеці - `nlargest` - є функцією, яка дозволяє знаходити найбільші елементи з ітерабельного об’єкту.\n",
        "\n",
        "    from heapq import nlargest\n",
        "\n",
        "Функція `nlargest(n, iterable, key=None)` приймає три аргументи:\n",
        "\n",
        "* `n` - це кількість найбільших елементів, які ви хочете отримати\n",
        "* `iterable` - це ітерабельний об’єкт, з якого ви хочете вибрати найбільші елементи\n",
        "* `key` (необов’язковий) - це функція, яка визначає, за яким ключем відбувається порівняння елементів (наприклад, `key=str.lower`)\n",
        "* Функція `nlargest` повертає список з `n` найбільших елементів з `iterable`. Ці елементи будуть впорядковані у порядку спадання. Якщо n більше довжини `iterable`, то функція поверне весь `iterable` у відсортованому порядку.\n",
        "\n",
        "Отже, імпортований `from heapq import nlargest` дозволяє використовувати функцію `nlargest` для знаходження найбільших елементів з довільного ітерабельного об’єкту.\n",
        "\n",
        "    select_length = int(len(sentence_tokens))\n",
        "    summary = nlargest(select_length, sentence_scores, key = sentence_scores.get)\n",
        "    summary\n",
        "\n",
        "У даному випадку, функція `nlargest` використовується для знаходження в `select_length` найбільших елементів зі словника `sentence_scores`. Ключі словника представляють речення, а значення - їхні оцінки або ваги. Аргумент key заданий як `sentence_scores.get`, що означає, що функція `get` використовується для порівняння елементів. У даному випадку, вона повертає значення (оцінку) для кожного речення, яке використовується як критерій для порівняння. Отже, змінна summary міститиме список `select_length` найкращих речень зі словника `sentence_scores` у порядку спадання оцінок."
      ],
      "metadata": {
        "id": "41QvqFFSBwW-"
      }
    },
    {
      "cell_type": "markdown",
      "source": [
        "## Imports"
      ],
      "metadata": {
        "id": "WJGX_LaxyAQj"
      }
    },
    {
      "cell_type": "code",
      "source": [
        "import numpy as np\n",
        "import nltk\n",
        "from nltk.corpus import stopwords\n",
        "from nltk.tokenize import word_tokenize, sent_tokenize\n",
        "import spacy\n",
        "from string import punctuation\n",
        "from heapq import nlargest"
      ],
      "metadata": {
        "id": "RSTwx7biyDaa"
      },
      "execution_count": 1,
      "outputs": []
    },
    {
      "cell_type": "markdown",
      "source": [
        "## load language model"
      ],
      "metadata": {
        "id": "bSdMdpQ5HWVz"
      }
    },
    {
      "cell_type": "code",
      "source": [
        "nlp = spacy.load('en_core_web_sm')"
      ],
      "metadata": {
        "id": "A4AkNZqJHV7c"
      },
      "execution_count": 2,
      "outputs": []
    },
    {
      "cell_type": "markdown",
      "source": [
        "## Define text for summary"
      ],
      "metadata": {
        "id": "rLTE7o31Gxzk"
      }
    },
    {
      "cell_type": "code",
      "source": [
        "text = \"The Orbiter Discovery, OV-103, is considered eligible for listing in the National Register of Historic Places (NRHP) in the context of the U.S. Space Shuttle Program (1969-2011) under Criterion A in the areas of Space Exploration and Transportation and under Criterion C in the area of Engineering. Because it has achieved significance within the past fifty years, Criteria Consideration G applies. Under Criterion A, Discovery is significant as the oldest of the three extant orbiter vehicles constructed for the Space Shuttle Program (SSP), the longest running American space program to date; she was the third of five orbiters built by NASA. Unlike the Mercury, Gemini, and Apollo programs, the SSP’s emphasis was on cost effectiveness and reusability, and eventually the construction of a space station. Including her maiden voyage (launched August 30, 1984), Discovery flew to space thirty-nine times, more than any of the other four orbiters; she was also the first orbiter to fly twenty missions. She had the honor of being chosen as the Return to Flight vehicle after both the Challenger and Columbia accidents. Discovery was the first shuttle to fly with the redesigned SRBs, a result of the Challenger accident, and the first shuttle to fly with the Phase II and Block I SSME. Discovery also carried the Hubble Space Telescope to orbit and performed two of the five servicing missions to the observatory. She flew the first and last dedicated Department of Defense (DoD) missions, as well as the first unclassified defense-related mission. In addition, Discovery was vital to the construction of the International Space Station (ISS); she flew thirteen of the thirty-seven total missions flown to the station by a U.S. Space Shuttle. She was the first orbiter to dock to the ISS, and the first to perform an exchange of a resident crew. Under Criterion C, Discovery is significant as a feat of engineering. According to Wayne Hale, a flight director from Johnson Space Center, the Space Shuttle orbiter represents a “huge technological leap from expendable rockets and capsules to a reusable, winged, hypersonic, cargo-carrying spacecraft.” Although her base structure followed a conventional aircraft design, she used advanced materials that both minimized her weight for cargo-carrying purposes and featured low thermal expansion ratios, which provided a stable base for her Thermal Protection System (TPS) materials. The Space Shuttle orbiter also featured the first reusable TPS; all previous spaceflight vehicles had a single-use, ablative heat shield. Other notable engineering achievements of the orbiter included the first reusable orbital propulsion system, and the first two-fault-tolerant Integrated Avionics System. As Hale stated, the Space Shuttle remains “the largest, fastest, winged hypersonic aircraft in history,” having regularly flown at twenty-five times the speed of sound.\""
      ],
      "metadata": {
        "id": "rC8VcLlwGwnr"
      },
      "execution_count": 3,
      "outputs": []
    },
    {
      "cell_type": "markdown",
      "source": [
        "## Tokens prepare"
      ],
      "metadata": {
        "id": "9kr-gUh3IGTK"
      }
    },
    {
      "cell_type": "code",
      "source": [
        "nltk.download('punkt')\n",
        "nltk.download('stopwords')"
      ],
      "metadata": {
        "id": "oRj07bSiZC75"
      },
      "execution_count": null,
      "outputs": []
    },
    {
      "cell_type": "code",
      "source": [
        "doc = nlp(text)\n",
        "tokens = word_tokenize(text)\n",
        "sentences = sent_tokenize(text)\n",
        "stoplist = set(stopwords.words('english'))\n",
        "punctuation_symbols = punctuation + '“”'"
      ],
      "metadata": {
        "id": "J4qFaayrH78m"
      },
      "execution_count": 5,
      "outputs": []
    },
    {
      "cell_type": "code",
      "source": [
        "print(tokens)"
      ],
      "metadata": {
        "colab": {
          "base_uri": "https://localhost:8080/"
        },
        "id": "Ya2HhtZyPIam",
        "outputId": "7fa39ec0-c844-4311-d3c1-fb7fe114ad3b"
      },
      "execution_count": 6,
      "outputs": [
        {
          "output_type": "stream",
          "name": "stdout",
          "text": [
            "['The', 'Orbiter', 'Discovery', ',', 'OV-103', ',', 'is', 'considered', 'eligible', 'for', 'listing', 'in', 'the', 'National', 'Register', 'of', 'Historic', 'Places', '(', 'NRHP', ')', 'in', 'the', 'context', 'of', 'the', 'U.S.', 'Space', 'Shuttle', 'Program', '(', '1969-2011', ')', 'under', 'Criterion', 'A', 'in', 'the', 'areas', 'of', 'Space', 'Exploration', 'and', 'Transportation', 'and', 'under', 'Criterion', 'C', 'in', 'the', 'area', 'of', 'Engineering', '.', 'Because', 'it', 'has', 'achieved', 'significance', 'within', 'the', 'past', 'fifty', 'years', ',', 'Criteria', 'Consideration', 'G', 'applies', '.', 'Under', 'Criterion', 'A', ',', 'Discovery', 'is', 'significant', 'as', 'the', 'oldest', 'of', 'the', 'three', 'extant', 'orbiter', 'vehicles', 'constructed', 'for', 'the', 'Space', 'Shuttle', 'Program', '(', 'SSP', ')', ',', 'the', 'longest', 'running', 'American', 'space', 'program', 'to', 'date', ';', 'she', 'was', 'the', 'third', 'of', 'five', 'orbiters', 'built', 'by', 'NASA', '.', 'Unlike', 'the', 'Mercury', ',', 'Gemini', ',', 'and', 'Apollo', 'programs', ',', 'the', 'SSP', '’', 's', 'emphasis', 'was', 'on', 'cost', 'effectiveness', 'and', 'reusability', ',', 'and', 'eventually', 'the', 'construction', 'of', 'a', 'space', 'station', '.', 'Including', 'her', 'maiden', 'voyage', '(', 'launched', 'August', '30', ',', '1984', ')', ',', 'Discovery', 'flew', 'to', 'space', 'thirty-nine', 'times', ',', 'more', 'than', 'any', 'of', 'the', 'other', 'four', 'orbiters', ';', 'she', 'was', 'also', 'the', 'first', 'orbiter', 'to', 'fly', 'twenty', 'missions', '.', 'She', 'had', 'the', 'honor', 'of', 'being', 'chosen', 'as', 'the', 'Return', 'to', 'Flight', 'vehicle', 'after', 'both', 'the', 'Challenger', 'and', 'Columbia', 'accidents', '.', 'Discovery', 'was', 'the', 'first', 'shuttle', 'to', 'fly', 'with', 'the', 'redesigned', 'SRBs', ',', 'a', 'result', 'of', 'the', 'Challenger', 'accident', ',', 'and', 'the', 'first', 'shuttle', 'to', 'fly', 'with', 'the', 'Phase', 'II', 'and', 'Block', 'I', 'SSME', '.', 'Discovery', 'also', 'carried', 'the', 'Hubble', 'Space', 'Telescope', 'to', 'orbit', 'and', 'performed', 'two', 'of', 'the', 'five', 'servicing', 'missions', 'to', 'the', 'observatory', '.', 'She', 'flew', 'the', 'first', 'and', 'last', 'dedicated', 'Department', 'of', 'Defense', '(', 'DoD', ')', 'missions', ',', 'as', 'well', 'as', 'the', 'first', 'unclassified', 'defense-related', 'mission', '.', 'In', 'addition', ',', 'Discovery', 'was', 'vital', 'to', 'the', 'construction', 'of', 'the', 'International', 'Space', 'Station', '(', 'ISS', ')', ';', 'she', 'flew', 'thirteen', 'of', 'the', 'thirty-seven', 'total', 'missions', 'flown', 'to', 'the', 'station', 'by', 'a', 'U.S.', 'Space', 'Shuttle', '.', 'She', 'was', 'the', 'first', 'orbiter', 'to', 'dock', 'to', 'the', 'ISS', ',', 'and', 'the', 'first', 'to', 'perform', 'an', 'exchange', 'of', 'a', 'resident', 'crew', '.', 'Under', 'Criterion', 'C', ',', 'Discovery', 'is', 'significant', 'as', 'a', 'feat', 'of', 'engineering', '.', 'According', 'to', 'Wayne', 'Hale', ',', 'a', 'flight', 'director', 'from', 'Johnson', 'Space', 'Center', ',', 'the', 'Space', 'Shuttle', 'orbiter', 'represents', 'a', '“', 'huge', 'technological', 'leap', 'from', 'expendable', 'rockets', 'and', 'capsules', 'to', 'a', 'reusable', ',', 'winged', ',', 'hypersonic', ',', 'cargo-carrying', 'spacecraft.', '”', 'Although', 'her', 'base', 'structure', 'followed', 'a', 'conventional', 'aircraft', 'design', ',', 'she', 'used', 'advanced', 'materials', 'that', 'both', 'minimized', 'her', 'weight', 'for', 'cargo-carrying', 'purposes', 'and', 'featured', 'low', 'thermal', 'expansion', 'ratios', ',', 'which', 'provided', 'a', 'stable', 'base', 'for', 'her', 'Thermal', 'Protection', 'System', '(', 'TPS', ')', 'materials', '.', 'The', 'Space', 'Shuttle', 'orbiter', 'also', 'featured', 'the', 'first', 'reusable', 'TPS', ';', 'all', 'previous', 'spaceflight', 'vehicles', 'had', 'a', 'single-use', ',', 'ablative', 'heat', 'shield', '.', 'Other', 'notable', 'engineering', 'achievements', 'of', 'the', 'orbiter', 'included', 'the', 'first', 'reusable', 'orbital', 'propulsion', 'system', ',', 'and', 'the', 'first', 'two-fault-tolerant', 'Integrated', 'Avionics', 'System', '.', 'As', 'Hale', 'stated', ',', 'the', 'Space', 'Shuttle', 'remains', '“', 'the', 'largest', ',', 'fastest', ',', 'winged', 'hypersonic', 'aircraft', 'in', 'history', ',', '”', 'having', 'regularly', 'flown', 'at', 'twenty-five', 'times', 'the', 'speed', 'of', 'sound', '.']\n"
          ]
        }
      ]
    },
    {
      "cell_type": "code",
      "source": [
        "print(sentences)"
      ],
      "metadata": {
        "colab": {
          "base_uri": "https://localhost:8080/"
        },
        "id": "TamRRN-uM6Wa",
        "outputId": "c6ce3d0f-b676-4086-effb-9722b09de715"
      },
      "execution_count": 7,
      "outputs": [
        {
          "output_type": "stream",
          "name": "stdout",
          "text": [
            "['The Orbiter Discovery, OV-103, is considered eligible for listing in the National Register of Historic Places (NRHP) in the context of the U.S. Space Shuttle Program (1969-2011) under Criterion A in the areas of Space Exploration and Transportation and under Criterion C in the area of Engineering.', 'Because it has achieved significance within the past fifty years, Criteria Consideration G applies.', 'Under Criterion A, Discovery is significant as the oldest of the three extant orbiter vehicles constructed for the Space Shuttle Program (SSP), the longest running American space program to date; she was the third of five orbiters built by NASA.', 'Unlike the Mercury, Gemini, and Apollo programs, the SSP’s emphasis was on cost effectiveness and reusability, and eventually the construction of a space station.', 'Including her maiden voyage (launched August 30, 1984), Discovery flew to space thirty-nine times, more than any of the other four orbiters; she was also the first orbiter to fly twenty missions.', 'She had the honor of being chosen as the Return to Flight vehicle after both the Challenger and Columbia accidents.', 'Discovery was the first shuttle to fly with the redesigned SRBs, a result of the Challenger accident, and the first shuttle to fly with the Phase II and Block I SSME.', 'Discovery also carried the Hubble Space Telescope to orbit and performed two of the five servicing missions to the observatory.', 'She flew the first and last dedicated Department of Defense (DoD) missions, as well as the first unclassified defense-related mission.', 'In addition, Discovery was vital to the construction of the International Space Station (ISS); she flew thirteen of the thirty-seven total missions flown to the station by a U.S. Space Shuttle.', 'She was the first orbiter to dock to the ISS, and the first to perform an exchange of a resident crew.', 'Under Criterion C, Discovery is significant as a feat of engineering.', 'According to Wayne Hale, a flight director from Johnson Space Center, the Space Shuttle orbiter represents a “huge technological leap from expendable rockets and capsules to a reusable, winged, hypersonic, cargo-carrying spacecraft.” Although her base structure followed a conventional aircraft design, she used advanced materials that both minimized her weight for cargo-carrying purposes and featured low thermal expansion ratios, which provided a stable base for her Thermal Protection System (TPS) materials.', 'The Space Shuttle orbiter also featured the first reusable TPS; all previous spaceflight vehicles had a single-use, ablative heat shield.', 'Other notable engineering achievements of the orbiter included the first reusable orbital propulsion system, and the first two-fault-tolerant Integrated Avionics System.', 'As Hale stated, the Space Shuttle remains “the largest, fastest, winged hypersonic aircraft in history,” having regularly flown at twenty-five times the speed of sound.']\n"
          ]
        }
      ]
    },
    {
      "cell_type": "code",
      "source": [
        "print(stoplist)"
      ],
      "metadata": {
        "colab": {
          "base_uri": "https://localhost:8080/"
        },
        "id": "QyxVyyefO5Uu",
        "outputId": "3580a297-0989-4644-ec89-d3f348a25189"
      },
      "execution_count": 8,
      "outputs": [
        {
          "output_type": "stream",
          "name": "stdout",
          "text": [
            "{'because', 'theirs', 'than', 'shan', 'what', 'hasn', 'there', 'nor', 'those', \"needn't\", 'further', 'other', 'not', 'against', 'himself', 'with', 'have', 'myself', 'most', 'were', 'some', 'off', \"you'd\", 'am', \"mustn't\", \"doesn't\", 'isn', 'couldn', 'do', \"should've\", 'is', 'the', 's', 'as', 'a', 'will', 'll', 'herself', 'was', \"you'll\", 'each', 'before', 'then', 'hadn', 'doing', \"isn't\", 'why', 'y', 'this', 'until', 'down', 'your', 'on', 'all', \"weren't\", \"that'll\", 'weren', 'ma', \"won't\", 'just', 'over', 'that', 'shouldn', 'i', 'no', 'should', 'an', \"don't\", 'did', 'mightn', 'he', 'her', 't', 'aren', 'ours', 'into', 'very', 'doesn', 'during', 've', \"haven't\", 'how', 'of', \"it's\", 'own', 'or', 'under', 'and', 'they', 'out', \"wasn't\", 'few', \"didn't\", 'their', 'it', 'both', 'didn', 'about', 'them', 'wouldn', 'from', 'by', 'so', 'same', 'up', 'wasn', 'our', 'she', 'these', 'won', 'ourselves', 'below', 'more', 'at', 'ain', 'you', 'can', 'which', \"you've\", 'such', 'but', 'now', 'we', 'yourself', 'again', 'too', 'don', 'him', 'd', 'once', 'been', 'themselves', 'above', \"wouldn't\", 'whom', 'after', 'his', 'be', 'o', 'where', 'does', \"shouldn't\", 'its', 're', 'here', 'needn', 'mustn', \"hasn't\", 'only', 'm', 'to', \"aren't\", 'for', 'being', 'when', 'through', 'hers', \"mightn't\", 'my', 'are', 'between', 'yourselves', 'in', 'haven', \"she's\", \"couldn't\", 'while', \"hadn't\", 'any', 'yours', 'had', 'me', 'who', 'has', 'having', \"shan't\", 'itself', \"you're\", 'if'}\n"
          ]
        }
      ]
    },
    {
      "cell_type": "code",
      "source": [
        "print(punctuation_symbols)"
      ],
      "metadata": {
        "colab": {
          "base_uri": "https://localhost:8080/"
        },
        "id": "sVmj68uKSAy3",
        "outputId": "c1d33f3b-9321-4585-eba3-771729a2eefe"
      },
      "execution_count": 9,
      "outputs": [
        {
          "output_type": "stream",
          "name": "stdout",
          "text": [
            "!\"#$%&'()*+,-./:;<=>?@[\\]^_`{|}~“”\n"
          ]
        }
      ]
    },
    {
      "cell_type": "code",
      "source": [
        "word_frequencies = {}\n",
        "for word in doc:\n",
        "  if word.text.lower() not in stoplist:\n",
        "    if word.text.lower() not in punctuation_symbols:\n",
        "      if word.text not in word_frequencies.keys():\n",
        "        word_frequencies[word.text] = 1\n",
        "      else:\n",
        "        word_frequencies[word.text] += 1"
      ],
      "metadata": {
        "id": "5HXcI9_cKphD"
      },
      "execution_count": 10,
      "outputs": []
    },
    {
      "cell_type": "code",
      "source": [
        "print(word_frequencies)"
      ],
      "metadata": {
        "colab": {
          "base_uri": "https://localhost:8080/"
        },
        "id": "Xapef4vOMLUE",
        "outputId": "e11366e9-1165-4617-d1fc-d633ab7123d5"
      },
      "execution_count": 11,
      "outputs": [
        {
          "output_type": "stream",
          "name": "stdout",
          "text": [
            "{'Orbiter': 1, 'Discovery': 7, 'OV-103': 1, 'considered': 1, 'eligible': 1, 'listing': 1, 'National': 1, 'Register': 1, 'Historic': 1, 'Places': 1, 'NRHP': 1, 'context': 1, 'U.S.': 2, 'Space': 10, 'Shuttle': 6, 'Program': 2, '1969': 1, '2011': 1, 'Criterion': 4, 'areas': 1, 'Exploration': 1, 'Transportation': 1, 'C': 2, 'area': 1, 'Engineering': 1, 'achieved': 1, 'significance': 1, 'within': 1, 'past': 1, 'fifty': 1, 'years': 1, 'Criteria': 1, 'Consideration': 1, 'G': 1, 'applies': 1, 'significant': 2, 'oldest': 1, 'three': 1, 'extant': 1, 'orbiter': 6, 'vehicles': 2, 'constructed': 1, 'SSP': 2, 'longest': 1, 'running': 1, 'American': 1, 'space': 3, 'program': 1, 'date': 1, 'third': 1, 'five': 3, 'orbiters': 2, 'built': 1, 'NASA': 1, 'Unlike': 1, 'Mercury': 1, 'Gemini': 1, 'Apollo': 1, 'programs': 1, '’s': 1, 'emphasis': 1, 'cost': 1, 'effectiveness': 1, 'reusability': 1, 'eventually': 1, 'construction': 2, 'station': 2, 'Including': 1, 'maiden': 1, 'voyage': 1, 'launched': 1, 'August': 1, '30': 1, '1984': 1, 'flew': 3, 'thirty': 2, 'nine': 1, 'times': 2, 'four': 1, 'also': 3, 'first': 10, 'fly': 3, 'twenty': 2, 'missions': 4, 'honor': 1, 'chosen': 1, 'Return': 1, 'Flight': 1, 'vehicle': 1, 'Challenger': 2, 'Columbia': 1, 'accidents': 1, 'shuttle': 2, 'redesigned': 1, 'SRBs': 1, 'result': 1, 'accident': 1, 'Phase': 1, 'II': 1, 'Block': 1, 'SSME': 1, 'carried': 1, 'Hubble': 1, 'Telescope': 1, 'orbit': 1, 'performed': 1, 'two': 2, 'servicing': 1, 'observatory': 1, 'last': 1, 'dedicated': 1, 'Department': 1, 'Defense': 1, 'DoD': 1, 'well': 1, 'unclassified': 1, 'defense': 1, 'related': 1, 'mission': 1, 'addition': 1, 'vital': 1, 'International': 1, 'Station': 1, 'ISS': 2, 'thirteen': 1, 'seven': 1, 'total': 1, 'flown': 2, 'dock': 1, 'perform': 1, 'exchange': 1, 'resident': 1, 'crew': 1, 'feat': 1, 'engineering': 2, 'According': 1, 'Wayne': 1, 'Hale': 2, 'flight': 1, 'director': 1, 'Johnson': 1, 'Center': 1, 'represents': 1, 'huge': 1, 'technological': 1, 'leap': 1, 'expendable': 1, 'rockets': 1, 'capsules': 1, 'reusable': 3, 'winged': 2, 'hypersonic': 2, 'cargo': 2, 'carrying': 2, 'spacecraft': 1, 'Although': 1, 'base': 2, 'structure': 1, 'followed': 1, 'conventional': 1, 'aircraft': 2, 'design': 1, 'used': 1, 'advanced': 1, 'materials': 2, 'minimized': 1, 'weight': 1, 'purposes': 1, 'featured': 2, 'low': 1, 'thermal': 1, 'expansion': 1, 'ratios': 1, 'provided': 1, 'stable': 1, 'Thermal': 1, 'Protection': 1, 'System': 2, 'TPS': 2, 'previous': 1, 'spaceflight': 1, 'single': 1, 'use': 1, 'ablative': 1, 'heat': 1, 'shield': 1, 'notable': 1, 'achievements': 1, 'included': 1, 'orbital': 1, 'propulsion': 1, 'system': 1, 'fault': 1, 'tolerant': 1, 'Integrated': 1, 'Avionics': 1, 'stated': 1, 'remains': 1, 'largest': 1, 'fastest': 1, 'history': 1, 'regularly': 1, 'speed': 1, 'sound': 1}\n"
          ]
        }
      ]
    },
    {
      "cell_type": "code",
      "source": [
        "select_length = 10\n",
        "summary_words = nlargest(select_length, word_frequencies, key = word_frequencies.get)"
      ],
      "metadata": {
        "id": "Fqe81ER_QG8k"
      },
      "execution_count": 12,
      "outputs": []
    },
    {
      "cell_type": "code",
      "source": [
        "print(summary_words)"
      ],
      "metadata": {
        "colab": {
          "base_uri": "https://localhost:8080/"
        },
        "id": "9D6Zov-rQWFD",
        "outputId": "887df678-8407-404c-db9a-0bf141b76bef"
      },
      "execution_count": 13,
      "outputs": [
        {
          "output_type": "stream",
          "name": "stdout",
          "text": [
            "['Space', 'first', 'Discovery', 'Shuttle', 'orbiter', 'Criterion', 'missions', 'space', 'five', 'flew']\n"
          ]
        }
      ]
    },
    {
      "cell_type": "code",
      "source": [
        "top_10_words_score = np.sort([value for value in word_frequencies.values()])[-10:]"
      ],
      "metadata": {
        "id": "xkY9XeSsVm91"
      },
      "execution_count": 14,
      "outputs": []
    },
    {
      "cell_type": "code",
      "source": [
        "mean_word_frequency = np.mean(top_10_words_score)"
      ],
      "metadata": {
        "id": "FcMgqEk-VzH0"
      },
      "execution_count": 15,
      "outputs": []
    },
    {
      "cell_type": "code",
      "source": [
        "sentence_scores = {}\n",
        "for sentence in sentences:\n",
        "  for word, freq in word_frequencies.items():\n",
        "    if word.lower() in sentence.lower():\n",
        "      if freq > mean_word_frequency:\n",
        "        if sentence not in sentence_scores.keys():\n",
        "          sentence_scores[sentence] = 1\n",
        "        else:\n",
        "          sentence_scores[sentence] += 1"
      ],
      "metadata": {
        "id": "oI6BlJLnTbNh"
      },
      "execution_count": 17,
      "outputs": []
    },
    {
      "cell_type": "code",
      "source": [
        "print(sentence_scores)"
      ],
      "metadata": {
        "colab": {
          "base_uri": "https://localhost:8080/"
        },
        "id": "pTQFJ3JHUjD2",
        "outputId": "cfa863b7-9419-4354-9561-a81ab5b398f7"
      },
      "execution_count": 18,
      "outputs": [
        {
          "output_type": "stream",
          "name": "stdout",
          "text": [
            "{'The Orbiter Discovery, OV-103, is considered eligible for listing in the National Register of Historic Places (NRHP) in the context of the U.S. Space Shuttle Program (1969-2011) under Criterion A in the areas of Space Exploration and Transportation and under Criterion C in the area of Engineering.': 4, 'Under Criterion A, Discovery is significant as the oldest of the three extant orbiter vehicles constructed for the Space Shuttle Program (SSP), the longest running American space program to date; she was the third of five orbiters built by NASA.': 4, 'Unlike the Mercury, Gemini, and Apollo programs, the SSP’s emphasis was on cost effectiveness and reusability, and eventually the construction of a space station.': 1, 'Including her maiden voyage (launched August 30, 1984), Discovery flew to space thirty-nine times, more than any of the other four orbiters; she was also the first orbiter to fly twenty missions.': 4, 'Discovery was the first shuttle to fly with the redesigned SRBs, a result of the Challenger accident, and the first shuttle to fly with the Phase II and Block I SSME.': 3, 'Discovery also carried the Hubble Space Telescope to orbit and performed two of the five servicing missions to the observatory.': 2, 'She flew the first and last dedicated Department of Defense (DoD) missions, as well as the first unclassified defense-related mission.': 1, 'In addition, Discovery was vital to the construction of the International Space Station (ISS); she flew thirteen of the thirty-seven total missions flown to the station by a U.S. Space Shuttle.': 3, 'She was the first orbiter to dock to the ISS, and the first to perform an exchange of a resident crew.': 2, 'Under Criterion C, Discovery is significant as a feat of engineering.': 1, 'According to Wayne Hale, a flight director from Johnson Space Center, the Space Shuttle orbiter represents a “huge technological leap from expendable rockets and capsules to a reusable, winged, hypersonic, cargo-carrying spacecraft.” Although her base structure followed a conventional aircraft design, she used advanced materials that both minimized her weight for cargo-carrying purposes and featured low thermal expansion ratios, which provided a stable base for her Thermal Protection System (TPS) materials.': 3, 'The Space Shuttle orbiter also featured the first reusable TPS; all previous spaceflight vehicles had a single-use, ablative heat shield.': 4, 'Other notable engineering achievements of the orbiter included the first reusable orbital propulsion system, and the first two-fault-tolerant Integrated Avionics System.': 2, 'As Hale stated, the Space Shuttle remains “the largest, fastest, winged hypersonic aircraft in history,” having regularly flown at twenty-five times the speed of sound.': 2}\n"
          ]
        }
      ]
    },
    {
      "cell_type": "code",
      "source": [
        "select_length = 3\n",
        "summary_sentences = nlargest(select_length, sentence_scores, key=sentence_scores.get)"
      ],
      "metadata": {
        "id": "XufRNOBLTcJ2"
      },
      "execution_count": 19,
      "outputs": []
    },
    {
      "cell_type": "code",
      "source": [
        "for sentence in summary_sentences:\n",
        "  print(sentence)"
      ],
      "metadata": {
        "colab": {
          "base_uri": "https://localhost:8080/"
        },
        "id": "7AxvvgdgTcCE",
        "outputId": "acfdadba-62d6-4a7e-f038-20fc58d0f992"
      },
      "execution_count": 20,
      "outputs": [
        {
          "output_type": "stream",
          "name": "stdout",
          "text": [
            "The Orbiter Discovery, OV-103, is considered eligible for listing in the National Register of Historic Places (NRHP) in the context of the U.S. Space Shuttle Program (1969-2011) under Criterion A in the areas of Space Exploration and Transportation and under Criterion C in the area of Engineering.\n",
            "Under Criterion A, Discovery is significant as the oldest of the three extant orbiter vehicles constructed for the Space Shuttle Program (SSP), the longest running American space program to date; she was the third of five orbiters built by NASA.\n",
            "Including her maiden voyage (launched August 30, 1984), Discovery flew to space thirty-nine times, more than any of the other four orbiters; she was also the first orbiter to fly twenty missions.\n"
          ]
        }
      ]
    }
  ],
  "metadata": {
    "colab": {
      "provenance": [],
      "gpuType": "T4",
      "toc_visible": true
    },
    "kernelspec": {
      "display_name": "Python 3",
      "name": "python3"
    },
    "language_info": {
      "codemirror_mode": {
        "name": "ipython",
        "version": 3
      },
      "file_extension": ".py",
      "mimetype": "text/x-python",
      "name": "python",
      "nbconvert_exporter": "python",
      "pygments_lexer": "ipython3",
      "version": "3.8.0"
    },
    "accelerator": "GPU"
  },
  "nbformat": 4,
  "nbformat_minor": 0
}