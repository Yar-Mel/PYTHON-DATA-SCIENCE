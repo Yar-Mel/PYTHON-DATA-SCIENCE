{
  "nbformat": 4,
  "nbformat_minor": 0,
  "metadata": {
    "colab": {
      "provenance": [],
      "toc_visible": true
    },
    "kernelspec": {
      "name": "python3",
      "display_name": "Python 3"
    },
    "language_info": {
      "name": "python"
    }
  },
  "cells": [
    {
      "cell_type": "markdown",
      "source": [
        "# Домашнє завдання\n",
        "\n",
        "На цьому тижні ми вивчили як працюють рекомендаційні системи. Пропонуємо вам познайомитись з бібліотекою [surprise](https://surpriselib.com/), котра якраз є по суті додатком до знайомої нам бібліотеки `scikit-learn` для тренування моделей рекомендаційних систем.\n",
        "\n",
        "Візьміть датасет [movielens](https://surprise.readthedocs.io/en/stable/dataset.html) і побудуйте модель матричної факторизації. У даній бібліотеці він має назву `SVD`. Підберіть найкращі параметри за допомогою крос-валідації, також поекспериментуйте з іншими [алгоритмами](https://surprise.readthedocs.io/en/stable/prediction_algorithms_package.html) розрахунків (`SVD++`, `NMF`) і оберіть той, який буде оптимальним.\n",
        "\n",
        "Підказки як саме побудувати дану модель ви знайдете в документації до даної бібліотеки.\n",
        "\n",
        "## Додаткове завдання з зірочкою\n",
        "Для більшого заглиблення в роботу алгоритму, пропонуємо реалізувати алгоритм колабораційної фільтрації з нуля. Для цього ми можемо скористатись нашою домашньою роботою з 3-ого модуля. Якщо ми модифікуємо функцію втрат та розрахунок градієнтів, то зможемо побудувати алгоритм матричної факторизації.\n",
        "\n",
        "[Тут](https://colab.research.google.com/drive/1biZdo4pc_Kkm-JvZsuadqDVphfUu1sGk?usp=sharing) ви можете побачити формули та завантаження датасету. А ось посилання на [назви фільмів](https://drive.google.com/file/d/12XeO4KXQfbvvTdLFbkYA-BeXzhlNnnuo/view) та на [рейтинги](https://drive.google.com/file/d/17V9OhXeZH9Wv17Nkh-Tqxa8svEmRZcIp/view).\n",
        "\n",
        "Вдалої роботи!"
      ],
      "metadata": {
        "id": "vqTrcnOg3HzH"
      }
    },
    {
      "cell_type": "markdown",
      "source": [
        "# Install packages"
      ],
      "metadata": {
        "id": "sF2OGrHY5IdF"
      }
    },
    {
      "cell_type": "code",
      "source": [
        "pip install surprise"
      ],
      "metadata": {
        "id": "Hx-fFC5e5FeQ"
      },
      "execution_count": null,
      "outputs": []
    },
    {
      "cell_type": "markdown",
      "source": [
        "# Imports"
      ],
      "metadata": {
        "id": "yIVlh7vS4HXP"
      }
    },
    {
      "cell_type": "code",
      "execution_count": 64,
      "metadata": {
        "id": "7bUZ_eSc6DXI"
      },
      "outputs": [],
      "source": [
        "import numpy as np\n",
        "\n",
        "from surprise import Dataset\n",
        "from surprise.model_selection import cross_validate\n",
        "from surprise import SVD, SVDpp, NMF"
      ]
    },
    {
      "cell_type": "markdown",
      "source": [
        "# Main task"
      ],
      "metadata": {
        "id": "-5rvkLJ74MoE"
      }
    },
    {
      "cell_type": "code",
      "source": [
        "data_set_ml_100k = Dataset.load_builtin('ml-100k')\n",
        "data_set_ml_1m = Dataset.load_builtin('ml-1m')\n",
        "data_set_jester = Dataset.load_builtin('jester')"
      ],
      "metadata": {
        "id": "gZJpHKGX51YM"
      },
      "execution_count": 65,
      "outputs": []
    },
    {
      "cell_type": "code",
      "source": [
        "data_sets = {'ml-100k': data_set_ml_100k, 'ml-1m': data_set_ml_1m, 'jester': data_set_jester}"
      ],
      "metadata": {
        "id": "hTPgea-_RyYd"
      },
      "execution_count": 66,
      "outputs": []
    },
    {
      "cell_type": "code",
      "source": [
        "models = {'SVD': SVD, 'SVD++': SVDpp, 'NMF': NMF}"
      ],
      "metadata": {
        "id": "zAAdBMcO58MD"
      },
      "execution_count": 67,
      "outputs": []
    },
    {
      "cell_type": "code",
      "source": [
        "for data_set_name, data_set in data_sets.items():\n",
        "\n",
        "  best_rmse_score = 0\n",
        "  best_mae_score = 0\n",
        "  best_rmse_model = None\n",
        "\n",
        "  print(f'Cross validation for {data_set_name} dataset:\\n')\n",
        "\n",
        "  for model_name, model in models.items():\n",
        "    output = cross_validate(model(), data_set, measures=['RMSE', 'MAE'], verbose=True)\n",
        "    mean_rmse = np.mean(output['test_rmse'])\n",
        "    mean_mae = np.mean(output['test_mae'])\n",
        "    print('\\n')\n",
        "\n",
        "    if best_mae_score < mean_rmse:\n",
        "      best_rmse_score = mean_rmse\n",
        "      best_rmse_model = model_name\n",
        "    if best_mae_score < mean_mae:\n",
        "      best_mae_score = mean_mae\n",
        "      best_mae_model = model_name\n",
        "\n",
        "  print(f'Best RMSE score: {best_rmse_score.round(4)}')\n",
        "  print(f'Best model by RMSE: {best_rmse_model}\\n')\n",
        "\n",
        "  print(f'Best MAE score: {best_mae_score.round(4)}')\n",
        "  print(f'Best model by MAE: {best_mae_model}')\n",
        "  print(f'{\"-\"*72}\\n')"
      ],
      "metadata": {
        "colab": {
          "base_uri": "https://localhost:8080/"
        },
        "id": "ytw7lKG4KU4Z",
        "outputId": "5d14e195-997b-4a63-b750-fada80f249e4"
      },
      "execution_count": 73,
      "outputs": [
        {
          "output_type": "stream",
          "name": "stdout",
          "text": [
            "Cross validation for ml-100k dataset:\n",
            "\n",
            "Evaluating RMSE, MAE of algorithm SVD on 5 split(s).\n",
            "\n",
            "                  Fold 1  Fold 2  Fold 3  Fold 4  Fold 5  Mean    Std     \n",
            "RMSE (testset)    0.9361  0.9358  0.9354  0.9439  0.9355  0.9374  0.0033  \n",
            "MAE (testset)     0.7392  0.7377  0.7371  0.7436  0.7381  0.7391  0.0024  \n",
            "Fit time          1.80    2.04    1.74    1.95    2.49    2.00    0.26    \n",
            "Test time         0.15    0.14    2.17    0.22    0.23    0.58    0.79    \n",
            "\n",
            "\n",
            "Evaluating RMSE, MAE of algorithm SVDpp on 5 split(s).\n",
            "\n",
            "                  Fold 1  Fold 2  Fold 3  Fold 4  Fold 5  Mean    Std     \n",
            "RMSE (testset)    0.9160  0.9215  0.9281  0.9197  0.9183  0.9207  0.0041  \n",
            "MAE (testset)     0.7198  0.7219  0.7295  0.7199  0.7187  0.7219  0.0039  \n",
            "Fit time          28.86   30.40   29.32   28.92   29.18   29.34   0.56    \n",
            "Test time         4.97    4.91    6.34    4.56    6.42    5.44    0.78    \n",
            "\n",
            "\n",
            "Evaluating RMSE, MAE of algorithm NMF on 5 split(s).\n",
            "\n",
            "                  Fold 1  Fold 2  Fold 3  Fold 4  Fold 5  Mean    Std     \n",
            "RMSE (testset)    0.9698  0.9584  0.9646  0.9578  0.9724  0.9646  0.0059  \n",
            "MAE (testset)     0.7625  0.7502  0.7611  0.7508  0.7657  0.7580  0.0063  \n",
            "Fit time          2.51    2.31    2.62    3.31    2.56    2.66    0.34    \n",
            "Test time         0.13    0.12    0.84    0.11    0.61    0.36    0.31    \n",
            "\n",
            "\n",
            "Best RMSE score: 0.9646\n",
            "Best model by RMSE: NMF\n",
            "\n",
            "Best MAE score: 0.758\n",
            "Best model by MAE: NMF\n",
            "------------------------------------------------------------------------\n",
            "\n",
            "Cross validation for ml-1m dataset:\n",
            "\n",
            "Evaluating RMSE, MAE of algorithm SVD on 5 split(s).\n",
            "\n",
            "                  Fold 1  Fold 2  Fold 3  Fold 4  Fold 5  Mean    Std     \n",
            "RMSE (testset)    0.8730  0.8737  0.8718  0.8761  0.8752  0.8740  0.0015  \n",
            "MAE (testset)     0.6854  0.6863  0.6850  0.6872  0.6870  0.6862  0.0009  \n",
            "Fit time          19.97   20.66   19.45   20.53   21.32   20.38   0.64    \n",
            "Test time         4.49    3.77    6.15    4.95    5.03    4.88    0.78    \n",
            "\n",
            "\n",
            "Evaluating RMSE, MAE of algorithm SVDpp on 5 split(s).\n",
            "\n",
            "                  Fold 1  Fold 2  Fold 3  Fold 4  Fold 5  Mean    Std     \n",
            "RMSE (testset)    0.8600  0.8620  0.8618  0.8639  0.8594  0.8614  0.0016  \n",
            "MAE (testset)     0.6710  0.6721  0.6735  0.6741  0.6694  0.6720  0.0017  \n",
            "Fit time          612.07  609.64  611.29  576.56  616.07  605.12  14.44   \n",
            "Test time         102.73  104.32  104.84  106.42  103.24  104.31  1.30    \n",
            "\n",
            "\n",
            "Evaluating RMSE, MAE of algorithm NMF on 5 split(s).\n",
            "\n",
            "                  Fold 1  Fold 2  Fold 3  Fold 4  Fold 5  Mean    Std     \n",
            "RMSE (testset)    0.9175  0.9167  0.9183  0.9151  0.9157  0.9167  0.0011  \n",
            "MAE (testset)     0.7250  0.7248  0.7252  0.7234  0.7232  0.7243  0.0009  \n",
            "Fit time          30.31   27.48   28.69   29.98   28.56   29.00   1.03    \n",
            "Test time         4.50    5.11    4.12    4.29    4.92    4.59    0.37    \n",
            "\n",
            "\n",
            "Best RMSE score: 0.9167\n",
            "Best model by RMSE: NMF\n",
            "\n",
            "Best MAE score: 0.7243\n",
            "Best model by MAE: NMF\n",
            "------------------------------------------------------------------------\n",
            "\n",
            "Cross validation for jester dataset:\n",
            "\n",
            "Evaluating RMSE, MAE of algorithm SVD on 5 split(s).\n",
            "\n",
            "                  Fold 1  Fold 2  Fold 3  Fold 4  Fold 5  Mean    Std     \n",
            "RMSE (testset)    4.5038  4.4987  4.4979  4.4916  4.4972  4.4978  0.0039  \n",
            "MAE (testset)     3.3728  3.3710  3.3717  3.3649  3.3679  3.3697  0.0029  \n",
            "Fit time          31.93   33.37   32.47   34.39   34.24   33.28   0.96    \n",
            "Test time         7.50    7.24    7.74    8.32    5.96    7.35    0.78    \n",
            "\n",
            "\n",
            "Evaluating RMSE, MAE of algorithm SVDpp on 5 split(s).\n",
            "\n",
            "                  Fold 1  Fold 2  Fold 3  Fold 4  Fold 5  Mean    Std     \n",
            "RMSE (testset)    4.9093  4.9037  4.8675  4.8949  4.9187  4.8988  0.0175  \n",
            "MAE (testset)     3.6178  3.6236  3.5945  3.6189  3.6376  3.6185  0.0139  \n",
            "Fit time          171.72  175.17  170.76  170.63  171.89  172.03  1.65    \n",
            "Test time         45.92   42.19   44.08   42.89   42.83   43.58   1.32    \n",
            "\n",
            "\n",
            "Evaluating RMSE, MAE of algorithm NMF on 5 split(s).\n",
            "\n",
            "                  Fold 1  Fold 2  Fold 3  Fold 4  Fold 5  Mean    Std     \n",
            "RMSE (testset)    8.9773  6.5578  5.5572  5.7227  6.7140  6.7058  1.2221  \n",
            "MAE (testset)     7.1924  5.2657  4.7043  4.7494  5.3284  5.4480  0.9090  \n",
            "Fit time          53.92   53.31   53.51   55.08   53.82   53.93   0.62    \n",
            "Test time         6.58    5.63    7.46    8.00    7.93    7.12    0.90    \n",
            "\n",
            "\n",
            "Best RMSE score: 6.7058\n",
            "Best model by RMSE: NMF\n",
            "\n",
            "Best MAE score: 5.448\n",
            "Best model by MAE: NMF\n",
            "------------------------------------------------------------------------\n",
            "\n"
          ]
        }
      ]
    }
  ]
}