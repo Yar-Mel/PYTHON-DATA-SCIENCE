{
  "nbformat": 4,
  "nbformat_minor": 0,
  "metadata": {
    "colab": {
      "provenance": [],
      "toc_visible": true
    },
    "kernelspec": {
      "name": "python3",
      "display_name": "Python 3"
    },
    "language_info": {
      "name": "python"
    }
  },
  "cells": [
    {
      "cell_type": "code",
      "execution_count": null,
      "metadata": {
        "id": "vgd4xDEbOW9u"
      },
      "outputs": [],
      "source": [
        "import numpy as np\n",
        "\n",
        "m = np.array([[1, 2, 3], [4, 5, 6]], dtype=int)\n",
        "\n",
        "print(m)"
      ]
    }
  ]
}