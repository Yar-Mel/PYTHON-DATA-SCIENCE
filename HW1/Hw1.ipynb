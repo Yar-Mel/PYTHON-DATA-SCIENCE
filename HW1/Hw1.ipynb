{
  "nbformat": 4,
  "nbformat_minor": 0,
  "metadata": {
    "colab": {
      "provenance": [],
      "toc_visible": true
    },
    "kernelspec": {
      "name": "python3",
      "display_name": "Python 3"
    },
    "language_info": {
      "name": "python"
    }
  },
  "cells": [
    {
      "cell_type": "markdown",
      "source": [
        "# Imports"
      ],
      "metadata": {
        "id": "uZZyw-U2Rteq"
      }
    },
    {
      "cell_type": "code",
      "source": [
        "import numpy as np"
      ],
      "metadata": {
        "id": "E_q-ByTDRndR"
      },
      "execution_count": null,
      "outputs": []
    },
    {
      "cell_type": "markdown",
      "source": [
        "# Task 1\n",
        "## Створіть одновимірний масив (вектор) з першими 10-ма натуральними числами та виведіть його значення."
      ],
      "metadata": {
        "id": "5XtD4aXqRA5I"
      }
    },
    {
      "cell_type": "code",
      "source": [
        "x = np.arange(1, 10)\n",
        "print(x)"
      ],
      "metadata": {
        "colab": {
          "base_uri": "https://localhost:8080/"
        },
        "id": "3OrGFJFbRJlK",
        "outputId": "34c34bf0-8757-4d2d-ff60-5011377d84ec"
      },
      "execution_count": null,
      "outputs": [
        {
          "output_type": "stream",
          "name": "stdout",
          "text": [
            "[1 2 3 4 5 6 7 8 9]\n"
          ]
        }
      ]
    },
    {
      "cell_type": "markdown",
      "source": [
        "# Task 2\n",
        "## Створіть двовимірний масив (матрицю) розміром 3x3, заповніть його нулями та виведіть його значення."
      ],
      "metadata": {
        "id": "T4EUbGw3RHE9"
      }
    },
    {
      "cell_type": "code",
      "source": [
        "x = np.zeros((3, 3), dtype=np.uint8)\n",
        "print(x)"
      ],
      "metadata": {
        "id": "P-3e-9YWRE_A",
        "colab": {
          "base_uri": "https://localhost:8080/"
        },
        "outputId": "b4930444-4ee3-42cb-ac0f-f5fb62391a34"
      },
      "execution_count": null,
      "outputs": [
        {
          "output_type": "stream",
          "name": "stdout",
          "text": [
            "[[0 0 0]\n",
            " [0 0 0]\n",
            " [0 0 0]]\n"
          ]
        }
      ]
    },
    {
      "cell_type": "markdown",
      "source": [
        "# Task 3\n",
        "## Створіть масив розміром 5x5, заповніть його випадковими цілими числами в діапазоні від 1 до 10 та виведіть його значення."
      ],
      "metadata": {
        "id": "K6Y5ygMk-4Y-"
      }
    },
    {
      "cell_type": "markdown",
      "source": [],
      "metadata": {
        "id": "IKwnCRJuCbaR"
      }
    },
    {
      "cell_type": "code",
      "source": [
        "x = np.random.randint(1, 10, size=(5, 5), dtype=np.uint8)\n",
        "print(x)"
      ],
      "metadata": {
        "colab": {
          "base_uri": "https://localhost:8080/"
        },
        "id": "rkqA3-7GAius",
        "outputId": "c832c56b-0b9a-4207-b3e5-7ea5a74212a4"
      },
      "execution_count": null,
      "outputs": [
        {
          "output_type": "stream",
          "name": "stdout",
          "text": [
            "[[7 7 7 2 1]\n",
            " [5 7 8 6 1]\n",
            " [2 8 9 7 7]\n",
            " [2 3 5 1 3]\n",
            " [1 2 4 3 4]]\n"
          ]
        }
      ]
    },
    {
      "cell_type": "markdown",
      "source": [
        "# Task 4\n",
        "## Створіть масив розміром 4x4, заповніть його випадковими дійсними числами в діапазоні від 0 до 1 та виведіть його значення."
      ],
      "metadata": {
        "id": "9bvVp3JZ--H1"
      }
    },
    {
      "cell_type": "code",
      "source": [
        "size = (4, 4)\n",
        "x = np.random.random_sample(size)\n",
        "print(x)"
      ],
      "metadata": {
        "colab": {
          "base_uri": "https://localhost:8080/"
        },
        "id": "Rv-__v9CCsES",
        "outputId": "c8fb406c-b090-49e7-dcf4-53d97fb511d1"
      },
      "execution_count": null,
      "outputs": [
        {
          "output_type": "stream",
          "name": "stdout",
          "text": [
            "[[0.62410511 0.30579083 0.97765869 0.42785942]\n",
            " [0.35892378 0.6461913  0.97774972 0.00251374]\n",
            " [0.5178693  0.93623583 0.07940717 0.53476766]\n",
            " [0.03583657 0.39429989 0.31662285 0.5100528 ]]\n"
          ]
        }
      ]
    },
    {
      "cell_type": "markdown",
      "source": [
        "# Task 5\n",
        "## Створіть два одновимірних масиви розміром 5, заповніть їх випадковими цілими числами в діапазоні від 1 до 10 та виконайте на них поелементні операції додавання, віднімання та множення."
      ],
      "metadata": {
        "id": "Lfqm2Jfi_AVJ"
      }
    },
    {
      "cell_type": "code",
      "source": [
        "size = (5,)\n",
        "range = 1, 10\n",
        "\n",
        "x1 = np.random.randint(*range, size)\n",
        "x2 = np.random.randint(*range, size)\n",
        "\n",
        "# x1\n",
        "print('x1')\n",
        "print(x1)\n",
        "print('\\n')\n",
        "\n",
        "# x2\n",
        "print('x2')\n",
        "print(x2)\n",
        "print('\\n')\n",
        "\n",
        "# add\n",
        "print('add')\n",
        "print(np.add(x1, x2))\n",
        "print('\\n')\n",
        "\n",
        "# subtract\n",
        "print('subtract')\n",
        "print(np.subtract(x1, x2))\n",
        "print('\\n')\n",
        "\n",
        "# multiply\n",
        "print('multiply')\n",
        "print(np.multiply(x1, x2))\n",
        "print('\\n')\n",
        "\n",
        "# divide\n",
        "print('divide')\n",
        "print(np.divide(x1, x2))\n",
        "print('\\n')"
      ],
      "metadata": {
        "colab": {
          "base_uri": "https://localhost:8080/"
        },
        "id": "yKDKLTLYEzJP",
        "outputId": "efee0b26-4c00-41ff-cc97-c4aaf8f9ec6a"
      },
      "execution_count": null,
      "outputs": [
        {
          "output_type": "stream",
          "name": "stdout",
          "text": [
            "x1\n",
            "[8 3 1 1 7]\n",
            "\n",
            "\n",
            "x2\n",
            "[6 7 5 6 4]\n",
            "\n",
            "\n",
            "add\n",
            "[14 10  6  7 11]\n",
            "\n",
            "\n",
            "subtract\n",
            "[ 2 -4 -4 -5  3]\n",
            "\n",
            "\n",
            "multiply\n",
            "[48 21  5  6 28]\n",
            "\n",
            "\n",
            "divide\n",
            "[1.33333333 0.42857143 0.2        0.16666667 1.75      ]\n",
            "\n",
            "\n"
          ]
        }
      ]
    },
    {
      "cell_type": "markdown",
      "source": [
        "# Task 6\n",
        "## Створіть два вектори розміром 7, заповніть довільними числами та знайдіть їх скалярний добуток."
      ],
      "metadata": {
        "id": "WxoCgzwD_BSF"
      }
    },
    {
      "cell_type": "code",
      "source": [
        "size = (7,)\n",
        "range = 1, 10\n",
        "\n",
        "x1 = np.random.randint(*range, size)\n",
        "x2 = np.random.randint(*range, size)\n",
        "\n",
        "# x1\n",
        "print('x1')\n",
        "print(x1)\n",
        "print('\\n')\n",
        "\n",
        "# x2\n",
        "print('x2')\n",
        "print(x2)\n",
        "print('\\n')\n",
        "\n",
        "# dot product\n",
        "print('dot product')\n",
        "print(np.dot(x1, x2))\n",
        "print('\\n')"
      ],
      "metadata": {
        "colab": {
          "base_uri": "https://localhost:8080/"
        },
        "id": "GjfNcESQKFMR",
        "outputId": "b1505e1c-dafd-437c-c771-def4ae0bb17e"
      },
      "execution_count": null,
      "outputs": [
        {
          "output_type": "stream",
          "name": "stdout",
          "text": [
            "x1\n",
            "[2 2 1 3 9 2 5]\n",
            "\n",
            "\n",
            "x2\n",
            "[2 2 1 3 9 2 5]\n",
            "\n",
            "\n",
            "dot product\n",
            "114\n",
            "\n",
            "\n"
          ]
        }
      ]
    },
    {
      "cell_type": "markdown",
      "source": [
        "# Task 7\n",
        "## Створіть дві матриці розміром 2x2 та 2x3, заповніть їх випадковими цілими числами в діапазоні від 1 до 10 та перемножте їх між собою."
      ],
      "metadata": {
        "id": "YNcrwQgw_JLO"
      }
    },
    {
      "cell_type": "code",
      "source": [
        "range = 1, 10\n",
        "\n",
        "x1 = np.random.randint(*range, (2, 2))\n",
        "x2 = np.random.randint(*range, (2, 3))\n",
        "\n",
        "# x1\n",
        "print('x1')\n",
        "print(x1)\n",
        "print('\\n')\n",
        "\n",
        "# x2\n",
        "print('x2')\n",
        "print(x2)\n",
        "print('\\n')\n",
        "\n",
        "# dot product\n",
        "print('dot product')\n",
        "print(np.dot(x1, x2))\n",
        "print('\\n')"
      ],
      "metadata": {
        "colab": {
          "base_uri": "https://localhost:8080/"
        },
        "id": "ys_q9WwXN42G",
        "outputId": "2111151a-d4c8-4a1b-9720-b344dcb68e5b"
      },
      "execution_count": null,
      "outputs": [
        {
          "output_type": "stream",
          "name": "stdout",
          "text": [
            "x1\n",
            "[[8 5 8]\n",
            " [7 7 5]]\n",
            "\n",
            "\n",
            "x2\n",
            "[[8 5 8]\n",
            " [7 7 5]]\n",
            "\n",
            "\n",
            "dot product\n",
            "[[77 56 71]\n",
            " [73 64 59]]\n",
            "\n",
            "\n"
          ]
        }
      ]
    },
    {
      "cell_type": "markdown",
      "source": [
        "# Task 8\n",
        "## Створіть матрицю розміром 3x3, заповніть її випадковими цілими числами в діапазоні від 1 до 10 та знайдіть її обернену матрицю."
      ],
      "metadata": {
        "id": "3n1oIW8z_JP3"
      }
    },
    {
      "cell_type": "code",
      "source": [
        "range = 1, 10\n",
        "size = (3, 3)\n",
        "\n",
        "x = np.random.randint(*range, size)\n",
        "\n",
        "# x\n",
        "print('x')\n",
        "print(x)\n",
        "print('\\n')\n",
        "\n",
        "# inverse\n",
        "print('inverse')\n",
        "print(np.linalg.inv(x))\n",
        "print('\\n')"
      ],
      "metadata": {
        "colab": {
          "base_uri": "https://localhost:8080/"
        },
        "id": "6A0OWRMuPJ72",
        "outputId": "ae702300-2580-4d70-d175-7b1a26397b55"
      },
      "execution_count": null,
      "outputs": [
        {
          "output_type": "stream",
          "name": "stdout",
          "text": [
            "x\n",
            "[[7 3 3]\n",
            " [9 9 7]\n",
            " [7 4 8]]\n",
            "\n",
            "\n",
            "inverse\n",
            "[[ 0.27848101 -0.07594937 -0.03797468]\n",
            " [-0.14556962  0.22151899 -0.13924051]\n",
            " [-0.17088608 -0.0443038   0.2278481 ]]\n",
            "\n",
            "\n"
          ]
        }
      ]
    },
    {
      "cell_type": "markdown",
      "source": [
        "# Task 9\n",
        "## Створіть матрицю розміром 4x4, заповніть її випадковими дійсними числами в діапазоні від 0 до 1 та транспонуйте її."
      ],
      "metadata": {
        "id": "YGfhQBJn_J0p"
      }
    },
    {
      "cell_type": "code",
      "source": [
        "size = (4, 4)\n",
        "x = np.random.random_sample(size)\n",
        "\n",
        "# x\n",
        "print('x')\n",
        "print(x)\n",
        "print('\\n')\n",
        "\n",
        "# transposed\n",
        "print('transposed')\n",
        "print(x.T)\n",
        "print('\\n')"
      ],
      "metadata": {
        "colab": {
          "base_uri": "https://localhost:8080/"
        },
        "id": "vCAnXncYQiYu",
        "outputId": "9b3f6100-5b9e-47f3-e5f3-4a78bcc96e2b"
      },
      "execution_count": null,
      "outputs": [
        {
          "output_type": "stream",
          "name": "stdout",
          "text": [
            "x\n",
            "[[0.53463288 0.70174183 0.42783221 0.64217363]\n",
            " [0.50351128 0.83016932 0.78885667 0.12842365]\n",
            " [0.82336224 0.10854651 0.47637393 0.74570832]\n",
            " [0.836619   0.15305739 0.83650758 0.17217428]]\n",
            "\n",
            "\n",
            "transposed\n",
            "[[0.53463288 0.50351128 0.82336224 0.836619  ]\n",
            " [0.70174183 0.83016932 0.10854651 0.15305739]\n",
            " [0.42783221 0.78885667 0.47637393 0.83650758]\n",
            " [0.64217363 0.12842365 0.74570832 0.17217428]]\n",
            "\n",
            "\n"
          ]
        }
      ]
    },
    {
      "cell_type": "markdown",
      "source": [
        "# Task 10\n",
        "## Створіть матрицю розміром 3x4 та вектор розміром 4, заповніть їх випадковими цілими числами в діапазоні від 1 до 10 та перемножте матрицю на вектор."
      ],
      "metadata": {
        "id": "wg2cjQ7O_J2x"
      }
    },
    {
      "cell_type": "code",
      "source": [
        "range = 1, 10\n",
        "\n",
        "x1 = np.random.randint(*range, (3, 4))\n",
        "x2 = np.random.randint(*range, (4))\n",
        "\n",
        "# x1\n",
        "print('x1')\n",
        "print(x1)\n",
        "print('\\n')\n",
        "\n",
        "# x2\n",
        "print('x2')\n",
        "print(x2)\n",
        "print('\\n')\n",
        "\n",
        "# dot product\n",
        "print('dot product')\n",
        "print(np.dot(x1, x2))\n",
        "print('\\n')"
      ],
      "metadata": {
        "colab": {
          "base_uri": "https://localhost:8080/"
        },
        "id": "oJHBIeZlTQeh",
        "outputId": "4783fd0f-2761-43c7-ceae-6e2fa24afcdc"
      },
      "execution_count": null,
      "outputs": [
        {
          "output_type": "stream",
          "name": "stdout",
          "text": [
            "x1\n",
            "[[8 2 5 3]\n",
            " [4 6 2 7]\n",
            " [2 8 3 8]]\n",
            "\n",
            "\n",
            "x2\n",
            "[5 9 2 1]\n",
            "\n",
            "\n",
            "dot product\n",
            "[71 85 96]\n",
            "\n",
            "\n"
          ]
        }
      ]
    },
    {
      "cell_type": "markdown",
      "source": [
        "# Task 11\n",
        "## Створіть матрицю розміром 2x3 та вектор розміром 3, заповніть їх випадковими дійсними числами в діапазоні від 0 до 1 та перемножте матрицю на вектор."
      ],
      "metadata": {
        "id": "yVaG1hBM_J4p"
      }
    },
    {
      "cell_type": "code",
      "source": [
        "range = 1, 10\n",
        "\n",
        "x1 = np.random.random_sample((2, 3))\n",
        "x2 = np.random.random_sample((3))\n",
        "\n",
        "# x1\n",
        "print('x1')\n",
        "print(x1)\n",
        "print('\\n')\n",
        "\n",
        "# x2\n",
        "print('x2')\n",
        "print(x2)\n",
        "print('\\n')\n",
        "\n",
        "# dot product\n",
        "print('dot product')\n",
        "print(np.dot(x1, x2))\n",
        "print('\\n')"
      ],
      "metadata": {
        "colab": {
          "base_uri": "https://localhost:8080/"
        },
        "id": "xu65cu0gUN1D",
        "outputId": "78733e0d-8775-468d-917c-43c7b709f1bd"
      },
      "execution_count": null,
      "outputs": [
        {
          "output_type": "stream",
          "name": "stdout",
          "text": [
            "x1\n",
            "[[0.45631187 0.65786813 0.99368822]\n",
            " [0.73788767 0.76821367 0.24631152]]\n",
            "\n",
            "\n",
            "x2\n",
            "[0.05766791 0.11770907 0.40184   ]\n",
            "\n",
            "\n",
            "dot product\n",
            "[0.50305527 0.23195597]\n",
            "\n",
            "\n"
          ]
        }
      ]
    },
    {
      "cell_type": "markdown",
      "source": [
        "# Task 12\n",
        "## Створіть дві матриці розміром 2x2, заповніть їх випадковими цілими числами в діапазоні від 1 до 10 та виконайте їхнє поелементне множення."
      ],
      "metadata": {
        "id": "q1Lns2Mg_J7M"
      }
    },
    {
      "cell_type": "markdown",
      "source": [],
      "metadata": {
        "id": "ToomQNLBU07L"
      }
    },
    {
      "cell_type": "code",
      "source": [
        "range = 1, 10\n",
        "size = (2, 2)\n",
        "\n",
        "x1 = np.random.randint(*range, size)\n",
        "x2 = np.random.randint(*range, size)\n",
        "\n",
        "# x1\n",
        "print('x1')\n",
        "print(x1)\n",
        "print('\\n')\n",
        "\n",
        "# x2\n",
        "print('x2')\n",
        "print(x2)\n",
        "print('\\n')\n",
        "\n",
        "# multiply\n",
        "print('multiply')\n",
        "print(np.multiply(x1, x2))\n",
        "print('\\n')"
      ],
      "metadata": {
        "colab": {
          "base_uri": "https://localhost:8080/"
        },
        "id": "BsN2WImBU1Sr",
        "outputId": "e65b30e8-a084-47a8-9ac5-919d0366f241"
      },
      "execution_count": null,
      "outputs": [
        {
          "output_type": "stream",
          "name": "stdout",
          "text": [
            "x1\n",
            "[[6 1]\n",
            " [3 6]]\n",
            "\n",
            "\n",
            "x2\n",
            "[[6 5]\n",
            " [7 9]]\n",
            "\n",
            "\n",
            "multiply\n",
            "[[36  5]\n",
            " [21 54]]\n",
            "\n",
            "\n"
          ]
        }
      ]
    },
    {
      "cell_type": "markdown",
      "source": [
        "# Task 13\n",
        "## Створіть дві матриці розміром 2x2, заповніть їх випадковими цілими числами в діапазоні від 1 до 10 та знайдіть їх добуток."
      ],
      "metadata": {
        "id": "X5MZnACc_SbR"
      }
    },
    {
      "cell_type": "code",
      "source": [
        "range = 1, 10\n",
        "size = (2, 2)\n",
        "\n",
        "x1 = np.random.randint(*range, size)\n",
        "x2 = np.random.randint(*range, size)\n",
        "\n",
        "# x1\n",
        "print('x1')\n",
        "print(x1)\n",
        "print('\\n')\n",
        "\n",
        "# x2\n",
        "print('x2')\n",
        "print(x2)\n",
        "print('\\n')\n",
        "\n",
        "# dot product\n",
        "print('dot product')\n",
        "print(np.dot(x1, x2))\n",
        "print('\\n')"
      ],
      "metadata": {
        "colab": {
          "base_uri": "https://localhost:8080/"
        },
        "id": "QQVCuzx-VQDj",
        "outputId": "ce1d8e05-0c52-422c-df11-3f076dbed14b"
      },
      "execution_count": null,
      "outputs": [
        {
          "output_type": "stream",
          "name": "stdout",
          "text": [
            "x1\n",
            "[[5 5]\n",
            " [1 7]]\n",
            "\n",
            "\n",
            "x2\n",
            "[[6 7]\n",
            " [2 5]]\n",
            "\n",
            "\n",
            "dot product\n",
            "[[40 60]\n",
            " [20 42]]\n",
            "\n",
            "\n"
          ]
        }
      ]
    },
    {
      "cell_type": "markdown",
      "source": [
        "# Task 14\n",
        "## Створіть матрицю розміром 5x5, заповніть її випадковими цілими числами в діапазоні від 1 до 100 та знайдіть суму елементів матриці."
      ],
      "metadata": {
        "id": "BolQDpA0_TAu"
      }
    },
    {
      "cell_type": "code",
      "source": [
        "range = 1, 100\n",
        "size = (5, 5)\n",
        "\n",
        "x = np.random.randint(*range, size)\n",
        "\n",
        "# x\n",
        "print('x')\n",
        "print(x)\n",
        "print('\\n')\n",
        "\n",
        "# sum\n",
        "print('sum')\n",
        "print(np.sum(x))\n",
        "print('\\n')"
      ],
      "metadata": {
        "colab": {
          "base_uri": "https://localhost:8080/"
        },
        "id": "MEOKAcTxW2_r",
        "outputId": "e17e4cc3-d033-410b-9851-23b433a5bf59"
      },
      "execution_count": null,
      "outputs": [
        {
          "output_type": "stream",
          "name": "stdout",
          "text": [
            "x\n",
            "[[98 61 61 37 42]\n",
            " [98 54 85 99 39]\n",
            " [ 9 66  8  6 14]\n",
            " [57 40 17 34 24]\n",
            " [23 39 27 96 24]]\n",
            "\n",
            "\n",
            "sum\n",
            "1158\n",
            "\n",
            "\n"
          ]
        }
      ]
    },
    {
      "cell_type": "markdown",
      "source": [
        "# Task 15\n",
        "## Створіть дві матриці розміром 4x4, заповніть їх випадковими цілими числами в діапазоні від 1 до 10 та знайдіть їхню різницю."
      ],
      "metadata": {
        "id": "rUjbRi6Z_TCz"
      }
    },
    {
      "cell_type": "code",
      "source": [
        "size = (4, 4)\n",
        "range = 1, 10\n",
        "\n",
        "x1 = np.random.randint(*range, size)\n",
        "x2 = np.random.randint(*range, size)\n",
        "\n",
        "# x1\n",
        "print('x1')\n",
        "print(x1)\n",
        "print('\\n')\n",
        "\n",
        "# x2\n",
        "print('x2')\n",
        "print(x2)\n",
        "print('\\n')\n",
        "\n",
        "# subtract\n",
        "print('subtract')\n",
        "print(np.subtract(x1, x2))\n",
        "print('\\n')"
      ],
      "metadata": {
        "colab": {
          "base_uri": "https://localhost:8080/"
        },
        "id": "MS1mMI55XugA",
        "outputId": "54fffce0-b6f3-4069-99a4-bf1cfde5f2c6"
      },
      "execution_count": null,
      "outputs": [
        {
          "output_type": "stream",
          "name": "stdout",
          "text": [
            "x1\n",
            "[[7 3 8 6]\n",
            " [2 1 6 9]\n",
            " [2 5 2 6]\n",
            " [6 1 5 7]]\n",
            "\n",
            "\n",
            "x2\n",
            "[[6 5 2 5]\n",
            " [1 9 9 7]\n",
            " [7 7 6 4]\n",
            " [5 4 9 5]]\n",
            "\n",
            "\n",
            "subtract\n",
            "\n",
            "[[ 1 -2  6  1]\n",
            " [ 1 -8 -3  2]\n",
            " [-5 -2 -4  2]\n",
            " [ 1 -3 -4  2]]\n",
            "\n",
            "\n"
          ]
        }
      ]
    },
    {
      "cell_type": "markdown",
      "source": [
        "# Task 16\n",
        "## Створіть матрицю розміром 3x3, заповніть її випадковими дійсними числами в діапазоні від 0 до 1 та знайдіть вектор-стовпчик, що містить суму елементів кожного рядка матриці."
      ],
      "metadata": {
        "id": "1Hgp5qny_TFJ"
      }
    },
    {
      "cell_type": "code",
      "source": [
        "size = (3, 3)\n",
        "x = np.random.random_sample(size)\n",
        "\n",
        "# x\n",
        "print('x')\n",
        "print(x)\n",
        "print('\\n')\n",
        "\n",
        "# sum\n",
        "print('sum')\n",
        "print(np.array(\n",
        "[[np.sum(x[0:1])],\n",
        "[np.sum(x[1:2])],\n",
        "[np.sum(x[2:3])]]\n",
        "))\n",
        "print('\\n')"
      ],
      "metadata": {
        "colab": {
          "base_uri": "https://localhost:8080/"
        },
        "id": "WGeDzSI_YeZe",
        "outputId": "78959d4f-0f60-48aa-c54a-fff50eca8b47"
      },
      "execution_count": 150,
      "outputs": [
        {
          "output_type": "stream",
          "name": "stdout",
          "text": [
            "x\n",
            "[[0.44087952 0.30842615 0.57296867]\n",
            " [0.64409579 0.26467192 0.69239007]\n",
            " [0.55151193 0.34990476 0.42905554]]\n",
            "\n",
            "\n",
            "sum\n",
            "[[1.32227434]\n",
            " [1.60115777]\n",
            " [1.33047223]]\n",
            "\n",
            "\n"
          ]
        }
      ]
    },
    {
      "cell_type": "markdown",
      "source": [
        "# Task 17\n",
        "## Створіть матрицю розміром 3x4 з довільними цілими числами і створінь матрицю з квадратами цих чисел."
      ],
      "metadata": {
        "id": "3einIQRt_THB"
      }
    },
    {
      "cell_type": "code",
      "source": [
        "range = 1, 100\n",
        "size = (3, 4)\n",
        "\n",
        "x = np.random.randint(*range, size)\n",
        "\n",
        "# x\n",
        "print('x')\n",
        "print(x)\n",
        "print('\\n')\n",
        "\n",
        "# sqr\n",
        "print('sqr')\n",
        "print(np.multiply(x, x))\n",
        "print('\\n')"
      ],
      "metadata": {
        "colab": {
          "base_uri": "https://localhost:8080/"
        },
        "id": "g50tWTteZLFp",
        "outputId": "0e8df5a9-feba-45e3-eec6-8f7c7b7c2c34"
      },
      "execution_count": 154,
      "outputs": [
        {
          "output_type": "stream",
          "name": "stdout",
          "text": [
            "x\n",
            "[[ 8 48 84 31]\n",
            " [42 54 73 92]\n",
            " [10 73 12 17]]\n",
            "\n",
            "\n",
            "sqr\n",
            "[[  64 2304 7056  961]\n",
            " [1764 2916 5329 8464]\n",
            " [ 100 5329  144  289]]\n",
            "\n",
            "\n"
          ]
        }
      ]
    },
    {
      "cell_type": "markdown",
      "source": [
        "# Task 18\n",
        "## Створіть вектор розміром 4, заповніть його випадковими цілими числами в діапазоні від 1 до 50 та знайдіть вектор з квадратними коренями цих чисел."
      ],
      "metadata": {
        "id": "2mpWmKvf_bGs"
      }
    },
    {
      "cell_type": "code",
      "source": [
        "range = 1, 50\n",
        "size = (4)\n",
        "\n",
        "x = np.random.randint(*range, size)\n",
        "\n",
        "# x\n",
        "print('x')\n",
        "print(x)\n",
        "print('\\n')\n",
        "\n",
        "# sqrt\n",
        "print('sqrt')\n",
        "print(np.sqrt(x))\n",
        "print('\\n')"
      ],
      "metadata": {
        "colab": {
          "base_uri": "https://localhost:8080/"
        },
        "id": "cJrGdpoOdLP_",
        "outputId": "f8d6c60a-7a7d-49c1-a580-acf112531437"
      },
      "execution_count": 156,
      "outputs": [
        {
          "output_type": "stream",
          "name": "stdout",
          "text": [
            "x\n",
            "[14 41 23  7]\n",
            "\n",
            "\n",
            "sqrt\n",
            "[3.74165739 6.40312424 4.79583152 2.64575131]\n",
            "\n",
            "\n"
          ]
        }
      ]
    }
  ]
}